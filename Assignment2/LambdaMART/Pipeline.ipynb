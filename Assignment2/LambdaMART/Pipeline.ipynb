{
 "cells": [
  {
   "cell_type": "code",
   "execution_count": 1,
   "metadata": {
    "collapsed": true
   },
   "outputs": [],
   "source": [
    "import pandas as pd\n",
    "import numpy as np\n",
    "import random\n",
    "import math\n",
    "import time\n",
    "\n",
    "import pyltr\n",
    "from sklearn.model_selection import train_test_split"
   ]
  },
  {
   "cell_type": "code",
   "execution_count": 2,
   "metadata": {
    "collapsed": false
   },
   "outputs": [],
   "source": [
    "# Function to sample queries\n",
    "def sample_queries(df, frac):\n",
    "    srch_ids = df[\"srch_id\"].unique()[0:int(len(df)*frac)]\n",
    "    return df.loc[df.srch_id.isin(srch_ids)]\n",
    "\n",
    "# Train, validation and test set generated from the train set\n",
    "_train = pd.read_csv(\"data/processed/_train_undersampled.csv\")\n",
    "_val = pd.read_csv(\"data/processed/_val.csv\")\n",
    "_test = pd.read_csv(\"data/processed/_test.csv\")\n",
    "\n",
    "# The actual test set that will be used to submit our final result\n",
    "test = pd.read_csv(\"data/processed/kaggle_test.csv\")\n",
    "\n",
    "# The properties that will be used for submitting the final result\n",
    "Sprops = test[\"prop_id\"]\n",
    "\n",
    "# To speed up execution we'll just sample for now\n",
    "_train = sample_queries(_train, 0.1)\n",
    "_val = sample_queries(_val, 0.2)\n",
    "_test = sample_queries(_test, 1)"
   ]
  },
  {
   "cell_type": "code",
   "execution_count": 3,
   "metadata": {
    "collapsed": false
   },
   "outputs": [],
   "source": [
    "# Generate price difference feature\n",
    "#for df in [_train, _val, _test, test]:\n",
    "    #df[\"price_usd_diff\"] = df[\"price_usd\"] - df[\"price_usd_mean\"]\n",
    "    #df[\"prop_starrating_diff\"] = df[\"prop_starrating\"] - df[\"prop_starrating_mean\"] # Seems to be a bad feature"
   ]
  },
  {
   "cell_type": "code",
   "execution_count": 4,
   "metadata": {
    "collapsed": false
   },
   "outputs": [],
   "source": [
    "# Generate month feature\n",
    "for df in [_train, _val, _test, test]:\n",
    "    month = df.date_time.map(lambda d: d.split(\"-\")[1])\n",
    "    dummies = pd.get_dummies(month, prefix=\"month\")\n",
    "    df[dummies.columns] = dummies"
   ]
  },
  {
   "cell_type": "code",
   "execution_count": 36,
   "metadata": {
    "collapsed": false
   },
   "outputs": [],
   "source": [
    "# Composite visitor features\n",
    "for df in [_train, _val, _test, test]:\n",
    "    df[\"srch_visitor_count\"] = df.srch_adults_count + df.srch_children_count\n",
    "    df[\"srch_visitor_per_room_count\"] = df.srch_visitor_count / df.srch_room_count\n",
    "    df[\"srch_price_per_adult_count\"] = df.price_usd / df.srch_adults_count"
   ]
  },
  {
   "cell_type": "code",
   "execution_count": 5,
   "metadata": {
    "collapsed": false
   },
   "outputs": [],
   "source": [
    "# Generate target label\n",
    "for df in [_train, _val, _test]:\n",
    "    df[\"relevance\"] = df.click_bool + df.booking_bool\n",
    "    df.relevance = df.relevance.map(lambda r: 5 if r > 1 else r)\n",
    "    df.drop([\"click_bool\", \"booking_bool\"], axis=1, inplace=True)"
   ]
  },
  {
   "cell_type": "code",
   "execution_count": 6,
   "metadata": {
    "collapsed": true
   },
   "outputs": [],
   "source": [
    "# Fill missing values (need better methods for each feature)\n",
    "for df in [_train, _val, _test, test]:\n",
    "    df.fillna(0, inplace=True)"
   ]
  },
  {
   "cell_type": "code",
   "execution_count": 7,
   "metadata": {
    "collapsed": false,
    "scrolled": true
   },
   "outputs": [
    {
     "data": {
      "text/html": [
       "<div>\n",
       "<table border=\"1\" class=\"dataframe\">\n",
       "  <thead>\n",
       "    <tr style=\"text-align: right;\">\n",
       "      <th></th>\n",
       "      <th>srch_id</th>\n",
       "      <th>date_time</th>\n",
       "      <th>site_id</th>\n",
       "      <th>visitor_location_country_id</th>\n",
       "      <th>visitor_hist_starrating</th>\n",
       "      <th>visitor_hist_adr_usd</th>\n",
       "      <th>prop_country_id</th>\n",
       "      <th>prop_id</th>\n",
       "      <th>prop_starrating</th>\n",
       "      <th>prop_review_score</th>\n",
       "      <th>...</th>\n",
       "      <th>booking_probability</th>\n",
       "      <th>month_01</th>\n",
       "      <th>month_02</th>\n",
       "      <th>month_03</th>\n",
       "      <th>month_04</th>\n",
       "      <th>month_05</th>\n",
       "      <th>month_06</th>\n",
       "      <th>month_11</th>\n",
       "      <th>month_12</th>\n",
       "      <th>relevance</th>\n",
       "    </tr>\n",
       "  </thead>\n",
       "  <tbody>\n",
       "    <tr>\n",
       "      <th>0</th>\n",
       "      <td>1</td>\n",
       "      <td>2013-04-04 08:32:15</td>\n",
       "      <td>12</td>\n",
       "      <td>187</td>\n",
       "      <td>0.0</td>\n",
       "      <td>0.0</td>\n",
       "      <td>219</td>\n",
       "      <td>68914</td>\n",
       "      <td>2</td>\n",
       "      <td>3.0</td>\n",
       "      <td>...</td>\n",
       "      <td>0.033195</td>\n",
       "      <td>0</td>\n",
       "      <td>0</td>\n",
       "      <td>0</td>\n",
       "      <td>1</td>\n",
       "      <td>0</td>\n",
       "      <td>0</td>\n",
       "      <td>0</td>\n",
       "      <td>0</td>\n",
       "      <td>5</td>\n",
       "    </tr>\n",
       "    <tr>\n",
       "      <th>1</th>\n",
       "      <td>1</td>\n",
       "      <td>2013-04-04 08:32:15</td>\n",
       "      <td>12</td>\n",
       "      <td>187</td>\n",
       "      <td>0.0</td>\n",
       "      <td>0.0</td>\n",
       "      <td>219</td>\n",
       "      <td>97247</td>\n",
       "      <td>2</td>\n",
       "      <td>3.5</td>\n",
       "      <td>...</td>\n",
       "      <td>0.009346</td>\n",
       "      <td>0</td>\n",
       "      <td>0</td>\n",
       "      <td>0</td>\n",
       "      <td>1</td>\n",
       "      <td>0</td>\n",
       "      <td>0</td>\n",
       "      <td>0</td>\n",
       "      <td>0</td>\n",
       "      <td>0</td>\n",
       "    </tr>\n",
       "    <tr>\n",
       "      <th>2</th>\n",
       "      <td>4</td>\n",
       "      <td>2012-12-31 08:59:22</td>\n",
       "      <td>5</td>\n",
       "      <td>219</td>\n",
       "      <td>0.0</td>\n",
       "      <td>0.0</td>\n",
       "      <td>219</td>\n",
       "      <td>85567</td>\n",
       "      <td>2</td>\n",
       "      <td>4.0</td>\n",
       "      <td>...</td>\n",
       "      <td>0.039568</td>\n",
       "      <td>0</td>\n",
       "      <td>0</td>\n",
       "      <td>0</td>\n",
       "      <td>0</td>\n",
       "      <td>0</td>\n",
       "      <td>0</td>\n",
       "      <td>0</td>\n",
       "      <td>1</td>\n",
       "      <td>0</td>\n",
       "    </tr>\n",
       "    <tr>\n",
       "      <th>3</th>\n",
       "      <td>4</td>\n",
       "      <td>2012-12-31 08:59:22</td>\n",
       "      <td>5</td>\n",
       "      <td>219</td>\n",
       "      <td>0.0</td>\n",
       "      <td>0.0</td>\n",
       "      <td>219</td>\n",
       "      <td>139893</td>\n",
       "      <td>2</td>\n",
       "      <td>3.0</td>\n",
       "      <td>...</td>\n",
       "      <td>0.021429</td>\n",
       "      <td>0</td>\n",
       "      <td>0</td>\n",
       "      <td>0</td>\n",
       "      <td>0</td>\n",
       "      <td>0</td>\n",
       "      <td>0</td>\n",
       "      <td>0</td>\n",
       "      <td>1</td>\n",
       "      <td>1</td>\n",
       "    </tr>\n",
       "    <tr>\n",
       "      <th>4</th>\n",
       "      <td>6</td>\n",
       "      <td>2013-06-05 12:27:51</td>\n",
       "      <td>14</td>\n",
       "      <td>100</td>\n",
       "      <td>0.0</td>\n",
       "      <td>0.0</td>\n",
       "      <td>100</td>\n",
       "      <td>22135</td>\n",
       "      <td>0</td>\n",
       "      <td>5.0</td>\n",
       "      <td>...</td>\n",
       "      <td>0.000000</td>\n",
       "      <td>0</td>\n",
       "      <td>0</td>\n",
       "      <td>0</td>\n",
       "      <td>0</td>\n",
       "      <td>0</td>\n",
       "      <td>1</td>\n",
       "      <td>0</td>\n",
       "      <td>0</td>\n",
       "      <td>0</td>\n",
       "    </tr>\n",
       "  </tbody>\n",
       "</table>\n",
       "<p>5 rows × 85 columns</p>\n",
       "</div>"
      ],
      "text/plain": [
       "   srch_id            date_time  site_id  visitor_location_country_id  \\\n",
       "0        1  2013-04-04 08:32:15       12                          187   \n",
       "1        1  2013-04-04 08:32:15       12                          187   \n",
       "2        4  2012-12-31 08:59:22        5                          219   \n",
       "3        4  2012-12-31 08:59:22        5                          219   \n",
       "4        6  2013-06-05 12:27:51       14                          100   \n",
       "\n",
       "   visitor_hist_starrating  visitor_hist_adr_usd  prop_country_id  prop_id  \\\n",
       "0                      0.0                   0.0              219    68914   \n",
       "1                      0.0                   0.0              219    97247   \n",
       "2                      0.0                   0.0              219    85567   \n",
       "3                      0.0                   0.0              219   139893   \n",
       "4                      0.0                   0.0              100    22135   \n",
       "\n",
       "   prop_starrating  prop_review_score    ...      booking_probability  \\\n",
       "0                2                3.0    ...                 0.033195   \n",
       "1                2                3.5    ...                 0.009346   \n",
       "2                2                4.0    ...                 0.039568   \n",
       "3                2                3.0    ...                 0.021429   \n",
       "4                0                5.0    ...                 0.000000   \n",
       "\n",
       "   month_01  month_02  month_03  month_04  month_05  month_06  month_11  \\\n",
       "0         0         0         0         1         0         0         0   \n",
       "1         0         0         0         1         0         0         0   \n",
       "2         0         0         0         0         0         0         0   \n",
       "3         0         0         0         0         0         0         0   \n",
       "4         0         0         0         0         0         1         0   \n",
       "\n",
       "   month_12  relevance  \n",
       "0         0          5  \n",
       "1         0          0  \n",
       "2         1          0  \n",
       "3         1          1  \n",
       "4         0          0  \n",
       "\n",
       "[5 rows x 85 columns]"
      ]
     },
     "execution_count": 7,
     "metadata": {},
     "output_type": "execute_result"
    }
   ],
   "source": [
    "# Drop training specific data\n",
    "for df in [_train, _val, _test]:\n",
    "    df.drop([\"gross_bookings_usd\", \"position\"], axis=1, inplace=True)\n",
    "\n",
    "_train.head()"
   ]
  },
  {
   "cell_type": "code",
   "execution_count": 37,
   "metadata": {
    "collapsed": false,
    "scrolled": true
   },
   "outputs": [
    {
     "name": "stdout",
     "output_type": "stream",
     "text": [
      " Iter  Train score  OOB Improve    Remaining                           Monitor Output \n",
      "    1       0.8248       0.1999        7.83m                                         \n",
      "    2       0.8551       0.0291        7.15m                                         \n",
      "    3       0.8669       0.0133        6.88m                                         \n",
      "    4       0.8742       0.0076        6.71m                                         \n",
      "    5       0.8802       0.0060        6.57m                                         \n",
      "    6       0.8812       0.0017        6.47m                                         \n",
      "    7       0.8855       0.0023        6.37m                                         \n",
      "    8       0.8865       0.0001        6.27m                                         \n",
      "    9       0.8875      -0.0001        6.19m                                         \n",
      "   10       0.8869       0.0010        6.10m                                         \n",
      "   15       0.8884      -0.0002        5.73m                                         \n",
      "   20       0.8919      -0.0000        5.37m                                         \n",
      "   25       0.8947       0.0000        5.02m                                         \n",
      "   30       0.8960      -0.0006        4.68m                                         \n",
      "   35       0.8956      -0.0000        4.34m                                         \n",
      "   40       0.8976      -0.0000        4.00m                                         \n",
      "   45       0.8963      -0.0002        3.66m                                         \n",
      "   50       0.8979       0.0000        3.33m                                         \n",
      "   60       0.8999      -0.0005        2.66m                                         \n",
      "   70       0.9000       0.0001        1.99m                                         \n",
      "   80       0.9027      -0.0003        1.33m                                         \n",
      "   90       0.9025      -0.0001       39.80s                                         \n",
      "  100       0.9030      -0.0001        0.00s                                         \n",
      "Time elapsed: 398.42217540740967\n"
     ]
    },
    {
     "data": {
      "text/plain": [
       "0.48962304160252368"
      ]
     },
     "execution_count": 37,
     "metadata": {},
     "output_type": "execute_result"
    }
   ],
   "source": [
    "def split_X_y_qids(df):\n",
    "    X = df.drop([\"srch_id\", \"relevance\"], axis=1)\n",
    "    y = df.relevance\n",
    "    qids = df.srch_id\n",
    "    \n",
    "    # Remove features we don't want to include\n",
    "    X = X.drop([\"date_time\", \n",
    "                \"visitor_hist_starrating\", \n",
    "                \"visitor_hist_adr_usd\", \n",
    "                \"prop_id\", \n",
    "                \"random_bool\"#,\n",
    "                #\"click_probability\",\n",
    "                #\"booking_probability\"\n",
    "               ], axis=1)\n",
    "    \n",
    "    # Destination stuff doesn't seem to be great, TODO: figure out which ones to keep and which ones to leave in\n",
    "    dest_cols = [c for c in _train.columns if c.startswith(\"dest\")]\n",
    "    X = X.drop(dest_cols, axis=1)\n",
    "    \n",
    "    return (X, y, qids)\n",
    "    \n",
    "TX, Ty, Tqids = split_X_y_qids(_train)\n",
    "VX, Vy, Vqids = split_X_y_qids(_val)\n",
    "EX, Ey, Eqids = split_X_y_qids(_test)\n",
    "\n",
    "# Train model\n",
    "metric = pyltr.metrics.NDCG(k=38)\n",
    "\n",
    "monitor = pyltr.models.monitors.ValidationMonitor(\n",
    "    VX, Vy, Vqids, metric=metric, stop_after=100)\n",
    "\n",
    "model = pyltr.models.LambdaMART(\n",
    "    metric=metric,\n",
    "    n_estimators=100,\n",
    "    learning_rate=0.5,\n",
    "    #max_features=1,\n",
    "    query_subsample=0.5,\n",
    "    max_leaf_nodes=10,\n",
    "    min_samples_leaf=64,\n",
    "    verbose=1\n",
    ")\n",
    "\n",
    "start = time.time()\n",
    "\n",
    "model.fit(TX, Ty, Tqids)\n",
    "\n",
    "print(\"Time elapsed:\", time.time() - start)\n",
    "\n",
    "# Test model locally\n",
    "Epred = model.predict(EX)\n",
    "metric.calc_mean(Eqids, Ey.as_matrix(), Epred)"
   ]
  },
  {
   "cell_type": "code",
   "execution_count": 33,
   "metadata": {
    "collapsed": false
   },
   "outputs": [
    {
     "data": {
      "text/plain": [
       "0.48870821807305698"
      ]
     },
     "execution_count": 33,
     "metadata": {},
     "output_type": "execute_result"
    }
   ],
   "source": []
  },
  {
   "cell_type": "code",
   "execution_count": null,
   "metadata": {
    "collapsed": false
   },
   "outputs": [],
   "source": [
    "# Predict final submission order\n",
    "SX = test[TX.columns]\n",
    "Sqids = test[\"srch_id\"]\n",
    "Spred = model.predict(SX)"
   ]
  },
  {
   "cell_type": "code",
   "execution_count": null,
   "metadata": {
    "collapsed": false
   },
   "outputs": [],
   "source": [
    "# Create submission data frame\n",
    "result = pd.DataFrame()\n",
    "result[\"SearchId\"] = Sqids\n",
    "result[\"PropertyId\"] = Sprops\n",
    "result[\"Sort\"] = Spred\n",
    "result = result.sort([\"SearchId\", \"Sort\"], ascending=False)\n",
    "result"
   ]
  },
  {
   "cell_type": "code",
   "execution_count": null,
   "metadata": {
    "collapsed": false
   },
   "outputs": [],
   "source": [
    "# Write submission to file\n",
    "result = result.drop(\"Sort\", axis=1)\n",
    "result.to_csv(\"submission.csv\", index=False)"
   ]
  },
  {
   "cell_type": "code",
   "execution_count": null,
   "metadata": {
    "collapsed": false
   },
   "outputs": [],
   "source": []
  },
  {
   "cell_type": "code",
   "execution_count": 23,
   "metadata": {
    "collapsed": false
   },
   "outputs": [],
   "source": []
  },
  {
   "cell_type": "code",
   "execution_count": 34,
   "metadata": {
    "collapsed": false
   },
   "outputs": [
    {
     "data": {
      "text/plain": [
       "Index(['srch_id', 'date_time', 'site_id', 'visitor_location_country_id',\n",
       "       'visitor_hist_starrating', 'visitor_hist_adr_usd', 'prop_country_id',\n",
       "       'prop_id', 'prop_starrating', 'prop_review_score', 'prop_brand_bool',\n",
       "       'prop_location_score1', 'prop_location_score2',\n",
       "       'prop_log_historical_price', 'price_usd', 'promotion_flag',\n",
       "       'srch_destination_id', 'srch_length_of_stay', 'srch_booking_window',\n",
       "       'srch_adults_count', 'srch_children_count', 'srch_room_count',\n",
       "       'srch_saturday_night_bool', 'srch_query_affinity_score',\n",
       "       'orig_destination_distance', 'random_bool', 'comp1_rate', 'comp1_inv',\n",
       "       'comp1_rate_percent_diff', 'comp2_rate', 'comp2_inv',\n",
       "       'comp2_rate_percent_diff', 'comp3_rate', 'comp3_inv',\n",
       "       'comp3_rate_percent_diff', 'comp4_rate', 'comp4_inv',\n",
       "       'comp4_rate_percent_diff', 'comp5_rate', 'comp5_inv',\n",
       "       'comp5_rate_percent_diff', 'comp6_rate', 'comp6_inv',\n",
       "       'comp6_rate_percent_diff', 'comp7_rate', 'comp7_inv',\n",
       "       'comp7_rate_percent_diff', 'comp8_rate', 'comp8_inv',\n",
       "       'comp8_rate_percent_diff', 'srch_mean_price_usd',\n",
       "       'srch_median_price_usd', 'srch_std_price_usd',\n",
       "       'srch_mean_prop_starrating', 'srch_median_prop_starrating',\n",
       "       'srch_std_prop_starrating', 'srch_mean_prop_review_score',\n",
       "       'srch_median_prop_review_score', 'srch_std_prop_review_score',\n",
       "       'dest_mean_price_usd', 'dest_median_price_usd', 'dest_std_price_usd',\n",
       "       'dest_mean_prop_starrating', 'dest_median_prop_starrating',\n",
       "       'dest_std_prop_starrating', 'dest_mean_prop_review_score',\n",
       "       'dest_median_prop_review_score', 'dest_std_prop_review_score',\n",
       "       'prop_mean_price_usd', 'prop_median_price_usd', 'prop_std_price_usd',\n",
       "       'prop_mean_prop_review_score', 'prop_median_prop_review_score',\n",
       "       'prop_std_prop_review_score', 'click_probability',\n",
       "       'booking_probability', 'month_01', 'month_02', 'month_03', 'month_04',\n",
       "       'month_05', 'month_06', 'month_11', 'month_12', 'relevance'],\n",
       "      dtype='object')"
      ]
     },
     "execution_count": 34,
     "metadata": {},
     "output_type": "execute_result"
    }
   ],
   "source": [
    "_train.columns"
   ]
  },
  {
   "cell_type": "code",
   "execution_count": null,
   "metadata": {
    "collapsed": true
   },
   "outputs": [],
   "source": []
  }
 ],
 "metadata": {
  "kernelspec": {
   "display_name": "Python (py35)",
   "language": "python",
   "name": "py35"
  },
  "language_info": {
   "codemirror_mode": {
    "name": "ipython",
    "version": 3
   },
   "file_extension": ".py",
   "mimetype": "text/x-python",
   "name": "python",
   "nbconvert_exporter": "python",
   "pygments_lexer": "ipython3",
   "version": "3.5.2"
  }
 },
 "nbformat": 4,
 "nbformat_minor": 2
}
