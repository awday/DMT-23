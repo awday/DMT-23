{
 "cells": [
  {
   "cell_type": "code",
   "execution_count": null,
   "metadata": {
    "collapsed": false
   },
   "outputs": [],
   "source": [
    "import pandas as pd\n",
    "import sklearn \n",
    "from sklearn.ensemble import RandomForestClassifier\n",
    "import numpy\n",
    "from sklearn.cross_validation import train_test_split\n",
    "import matplotlib.pyplot as plt\n",
    "import seaborn as sns\n",
    "sns.set_style('whitegrid')\n",
    "%matplotlib inline\n",
    "\n",
    "df = pd.read_csv(\"C:\\\\FEWEB\\odi_clean.csv\")\n",
    "df.drop('timestamp', axis=1, inplace=True)\n",
    "df.head()"
   ]
  },
  {
   "cell_type": "code",
   "execution_count": null,
   "metadata": {
    "collapsed": false
   },
   "outputs": [],
   "source": [
    "df.machine_learning.replace(['yes', 'no', 'unknown'], [1, -1, 0], inplace=True)\n",
    "df.head()"
   ]
  },
  {
   "cell_type": "code",
   "execution_count": null,
   "metadata": {
    "collapsed": false
   },
   "outputs": [],
   "source": [
    "df.gender.replace(['male', 'female', 'unknown'], [1, -1, 0], inplace=True)\n",
    "df.head()"
   ]
  },
  {
   "cell_type": "code",
   "execution_count": null,
   "metadata": {
    "collapsed": false,
    "scrolled": true
   },
   "outputs": [],
   "source": [
    "choco_dummies = pd.get_dummies(df[\"chocolate\"],prefix=\"chocolate\")\n",
    "df = df.join(choco_dummies).drop(\"chocolate\", axis=1)\n",
    "df.head()"
   ]
  },
  {
   "cell_type": "code",
   "execution_count": null,
   "metadata": {
    "collapsed": false
   },
   "outputs": [],
   "source": [
    "df.stand_up.replace(['yes', 'no', 'unknown'], [1, -1, 0], inplace=True)\n",
    "df.head()"
   ]
  },
  {
   "cell_type": "code",
   "execution_count": null,
   "metadata": {
    "collapsed": false,
    "scrolled": true
   },
   "outputs": [],
   "source": [
    "df.databases.replace(['ja', 'nee', 'unknown'], [1, -1, 0], inplace=True)\n",
    "df.statistics.replace(['mu', 'sigma', 'unknown'], [1, -1, 0], inplace=True)\n",
    "df.information_retrieval.replace(['1', '0', 'unknown'], [1, -1, 0], inplace=True)\n",
    "df.head()"
   ]
  },
  {
   "cell_type": "code",
   "execution_count": null,
   "metadata": {
    "collapsed": false,
    "scrolled": true
   },
   "outputs": [],
   "source": [
    "df.bedtime.replace(['Bullshit'], [12.5], inplace=True)\n",
    "df.amount_money.replace(['Bullshit'], [1], inplace=True)\n",
    "df.head()"
   ]
  },
  {
   "cell_type": "code",
   "execution_count": null,
   "metadata": {
    "collapsed": false
   },
   "outputs": [],
   "source": [
    "colormap = plt.cm.PuOr\n",
    "plt.figure(figsize=(16,16))\n",
    "plt.title('Correlation of Features', y=1.05, size=15)\n",
    "sns.heatmap(train.astype(float).corr(),linewidths=0.1,vmax=1.0, square=True, cmap=colormap, linecolor='white', annot=True)"
   ]
  },
  {
   "cell_type": "code",
   "execution_count": null,
   "metadata": {
    "collapsed": false,
    "scrolled": true
   },
   "outputs": [],
   "source": [
    "train = df.sample(frac=0.8, random_state=200)\n",
    "test = df.drop(train.index)\n",
    "# train, test = train_test_split(df, test_size = 0.2)\n",
    "\n",
    "train_X = train.drop(\"gender\", axis=1)\n",
    "train_Y = train[\"gender\"]\n",
    "test_X = test.drop(\"gender\", axis=1)\n",
    "test_Y = test[\"gender\"]\n",
    "\n",
    "classifier = RandomForestClassifier(n_estimators=100)\n",
    "classifier.fit(train_X, train_Y)\n",
    "pred_Y = classifier.predict(test_X)\n",
    "\n",
    "accuracy = (pred_Y == test_Y).mean()\n",
    "accuracy"
   ]
  },
  {
   "cell_type": "code",
   "execution_count": null,
   "metadata": {
    "collapsed": true
   },
   "outputs": [],
   "source": []
  }
 ],
 "metadata": {
  "anaconda-cloud": {},
  "kernelspec": {
   "display_name": "Python [conda root]",
   "language": "python",
   "name": "conda-root-py"
  },
  "language_info": {
   "codemirror_mode": {
    "name": "ipython",
    "version": 3
   },
   "file_extension": ".py",
   "mimetype": "text/x-python",
   "name": "python",
   "nbconvert_exporter": "python",
   "pygments_lexer": "ipython3",
   "version": "3.5.2"
  }
 },
 "nbformat": 4,
 "nbformat_minor": 1
}
